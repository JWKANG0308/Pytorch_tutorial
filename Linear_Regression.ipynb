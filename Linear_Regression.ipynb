{
  "nbformat": 4,
  "nbformat_minor": 0,
  "metadata": {
    "colab": {
      "provenance": [],
      "gpuType": "T4",
      "authorship_tag": "ABX9TyOghxL1C8pOXqqztPKe90tq",
      "include_colab_link": true
    },
    "kernelspec": {
      "name": "python3",
      "display_name": "Python 3"
    },
    "language_info": {
      "name": "python"
    },
    "accelerator": "GPU"
  },
  "cells": [
    {
      "cell_type": "markdown",
      "metadata": {
        "id": "view-in-github",
        "colab_type": "text"
      },
      "source": [
        "<a href=\"https://colab.research.google.com/github/JWKANG0308/Pytorch_tutorial/blob/main/Linear_Regression.ipynb\" target=\"_parent\"><img src=\"https://colab.research.google.com/assets/colab-badge.svg\" alt=\"Open In Colab\"/></a>"
      ]
    },
    {
      "cell_type": "markdown",
      "source": [],
      "metadata": {
        "id": "GXD5wNDc5uw8"
      }
    },
    {
      "cell_type": "code",
      "source": [
        "x = list(range(10))\n",
        "y = [1,1,2,4,5,7,8,9,9,10]"
      ],
      "metadata": {
        "id": "dvG_xh7l5x9m"
      },
      "execution_count": null,
      "outputs": []
    },
    {
      "cell_type": "code",
      "source": [
        "import matplotlib.pyplot as plt"
      ],
      "metadata": {
        "id": "rxgaUVV6Bz06"
      },
      "execution_count": null,
      "outputs": []
    },
    {
      "cell_type": "code",
      "source": [
        "plt.scatter(x,y)"
      ],
      "metadata": {
        "colab": {
          "base_uri": "https://localhost:8080/",
          "height": 448
        },
        "id": "KVHEiBf1CFew",
        "outputId": "ffebf63f-30d9-4864-b07b-1fa7f6d9662b"
      },
      "execution_count": null,
      "outputs": [
        {
          "output_type": "execute_result",
          "data": {
            "text/plain": [
              "<matplotlib.collections.PathCollection at 0x781dd6d5a410>"
            ]
          },
          "metadata": {},
          "execution_count": 4
        },
        {
          "output_type": "display_data",
          "data": {
            "text/plain": [
              "<Figure size 640x480 with 1 Axes>"
            ],
            "image/png": "[encoded data removed]"
          },
          "metadata": {}
        }
      ]
    },
    {
      "cell_type": "code",
      "source": [
        "class H:\n",
        "  def __init__(self, w):\n",
        "    self.w = w\n",
        "  def forward(self, x):\n",
        "    return self.w * x"
      ],
      "metadata": {
        "id": "py7kPADMCHys"
      },
      "execution_count": null,
      "outputs": []
    },
    {
      "cell_type": "code",
      "source": [
        "def cost(h,x,y): #cost function , h의 class = H\n",
        "  m = len(x)\n",
        "  return sum ((h.forward(x[i]) - y[i])**2 for i in range(m))/m\n",
        "h= H(4)\n",
        "cost(h,x,y)"
      ],
      "metadata": {
        "colab": {
          "base_uri": "https://localhost:8080/"
        },
        "id": "MNbUOKANCRhT",
        "outputId": "c5005f62-6f55-4138-aa88-53a72af67fd0"
      },
      "execution_count": null,
      "outputs": [
        {
          "output_type": "execute_result",
          "data": {
            "text/plain": [
              "222.2"
            ]
          },
          "metadata": {},
          "execution_count": 6
        }
      ]
    },
    {
      "cell_type": "code",
      "source": [
        "def derv_cost(h,x,y):\n",
        "  m = len(x)\n",
        "  return 2*sum((h.forward(x[i])-y[i])*x[i] for i in range(len(x)))/m\n",
        "\n",
        "print(derv_cost(h,x,y))\n",
        "r=0.001\n",
        "print(r*derv_cost(h,x,y))\n",
        "print(h.w- r*derv_cost(h,x,y))\n",
        "h = H(h.w- (r *derv_cost(h,x,y)))\n",
        "\n",
        "def Next_iter(h, r, x, y, tolerance=1e-6):\n",
        "    # 기울기가 tolerance보다 작으면 종료\n",
        "    if abs(derv_cost(h, x, y)) < tolerance:\n",
        "        return h\n",
        "\n",
        "    # 업데이트된 가중치\n",
        "    h = H(h.w - (r * derv_cost(h, x, y)))\n",
        "    return Next_iter(h, r, x, y, tolerance)\n",
        "\n",
        "# 사용 예\n",
        "result = Next_iter(h, r, x, y)\n",
        "print(result.w)"
      ],
      "metadata": {
        "colab": {
          "base_uri": "https://localhost:8080/"
        },
        "id": "rpF4PwyFEaDD",
        "outputId": "3d0ca303-ef65-4c18-a68a-8ee8b1919c4a"
      },
      "execution_count": null,
      "outputs": [
        {
          "output_type": "stream",
          "name": "stdout",
          "text": [
            "-197.198690499525\n",
            "-0.197198690499525\n",
            "-2.051901142825475\n",
            "1.2105262988132537\n"
          ]
        }
      ]
    },
    {
      "cell_type": "code",
      "source": [
        "w=[]\n",
        "print(cost(H(4),x,y))\n",
        "for i in range(100):\n",
        "  w.append(i * 0.1)\n",
        "print(w)\n",
        "c=[cost(H(i),x,y) for i in w]\n",
        "print(c)"
      ],
      "metadata": {
        "id": "OG3fbgsiIHNO",
        "colab": {
          "base_uri": "https://localhost:8080/"
        },
        "outputId": "97d3f11a-abaf-4df3-ba40-7dae0676e6c5"
      },
      "execution_count": null,
      "outputs": [
        {
          "output_type": "stream",
          "name": "stdout",
          "text": [
            "222.2\n",
            "[0.0, 0.1, 0.2, 0.30000000000000004, 0.4, 0.5, 0.6000000000000001, 0.7000000000000001, 0.8, 0.9, 1.0, 1.1, 1.2000000000000002, 1.3, 1.4000000000000001, 1.5, 1.6, 1.7000000000000002, 1.8, 1.9000000000000001, 2.0, 2.1, 2.2, 2.3000000000000003, 2.4000000000000004, 2.5, 2.6, 2.7, 2.8000000000000003, 2.9000000000000004, 3.0, 3.1, 3.2, 3.3000000000000003, 3.4000000000000004, 3.5, 3.6, 3.7, 3.8000000000000003, 3.9000000000000004, 4.0, 4.1000000000000005, 4.2, 4.3, 4.4, 4.5, 4.6000000000000005, 4.7, 4.800000000000001, 4.9, 5.0, 5.1000000000000005, 5.2, 5.300000000000001, 5.4, 5.5, 5.6000000000000005, 5.7, 5.800000000000001, 5.9, 6.0, 6.1000000000000005, 6.2, 6.300000000000001, 6.4, 6.5, 6.6000000000000005, 6.7, 6.800000000000001, 6.9, 7.0, 7.1000000000000005, 7.2, 7.300000000000001, 7.4, 7.5, 7.6000000000000005, 7.7, 7.800000000000001, 7.9, 8.0, 8.1, 8.200000000000001, 8.3, 8.4, 8.5, 8.6, 8.700000000000001, 8.8, 8.9, 9.0, 9.1, 9.200000000000001, 9.3, 9.4, 9.5, 9.600000000000001, 9.700000000000001, 9.8, 9.9]\n",
            "[42.2, 35.585, 29.540000000000003, 24.064999999999998, 19.16, 14.825, 11.059999999999997, 7.864999999999999, 5.239999999999998, 3.185, 1.7, 0.7849999999999995, 0.4399999999999996, 0.6650000000000005, 1.4600000000000015, 2.825, 4.7600000000000025, 7.265000000000003, 10.34, 13.985000000000005, 18.2, 22.985000000000007, 28.34000000000001, 34.26500000000002, 40.760000000000026, 47.825, 55.460000000000015, 63.66500000000002, 72.44000000000003, 81.78500000000003, 91.7, 102.18500000000002, 113.24000000000004, 124.86500000000004, 137.06000000000003, 149.825, 163.16000000000003, 177.06500000000005, 191.54000000000002, 206.58500000000004, 222.2, 238.38500000000013, 255.14000000000004, 272.4649999999999, 290.36, 308.825, 327.8600000000001, 347.46500000000003, 367.6400000000001, 388.3850000000001, 409.7, 431.58500000000015, 454.03999999999996, 477.06500000000017, 500.66000000000014, 524.825, 549.5600000000002, 574.865, 600.7400000000001, 627.1850000000002, 654.2, 681.7850000000001, 709.94, 738.6650000000002, 767.9600000000002, 797.825, 828.2600000000002, 859.2650000000001, 890.8400000000001, 922.985, 955.7, 988.9850000000002, 1022.8399999999999, 1057.265, 1092.2600000000002, 1127.825, 1163.9600000000003, 1200.665, 1237.94, 1275.7850000000003, 1314.2, 1353.185, 1392.7400000000005, 1432.8650000000002, 1473.5600000000002, 1514.825, 1556.6599999999996, 1599.0650000000003, 1642.0400000000002, 1685.5850000000003, 1729.7, 1774.3849999999998, 1819.64, 1865.4650000000001, 1911.8600000000001, 1958.825, 2006.3600000000006, 2054.4650000000006, 2103.1400000000003, 2152.385]\n"
          ]
        }
      ]
    },
    {
      "cell_type": "code",
      "source": [
        "plt.scatter(w,c)"
      ],
      "metadata": {
        "colab": {
          "base_uri": "https://localhost:8080/",
          "height": 448
        },
        "id": "60B8lCTLrlz-",
        "outputId": "d06f5d9b-b52b-4775-83b1-bee9f517e5e2"
      },
      "execution_count": null,
      "outputs": [
        {
          "output_type": "execute_result",
          "data": {
            "text/plain": [
              "<matplotlib.collections.PathCollection at 0x79f7e04d0590>"
            ]
          },
          "metadata": {},
          "execution_count": 36
        },
        {
          "output_type": "display_data",
          "data": {
            "text/plain": [
              "<Figure size 640x480 with 1 Axes>"
            ],
            "image/png": "[encoded data removed]"
          },
          "metadata": {}
        }
      ]
    },
    {
      "cell_type": "code",
      "source": [
        "w[12]"
      ],
      "metadata": {
        "colab": {
          "base_uri": "https://localhost:8080/"
        },
        "id": "UQRWV_zmuMEF",
        "outputId": "40207b74-f4c5-435e-d1b3-62fe45992df3"
      },
      "execution_count": null,
      "outputs": [
        {
          "output_type": "execute_result",
          "data": {
            "text/plain": [
              "1.2000000000000002"
            ]
          },
          "metadata": {},
          "execution_count": 37
        }
      ]
    },
    {
      "cell_type": "code",
      "source": [
        "min(c)"
      ],
      "metadata": {
        "colab": {
          "base_uri": "https://localhost:8080/"
        },
        "id": "M5p-pBh6urtJ",
        "outputId": "01374724-c4ec-4644-9864-68694f4d132a"
      },
      "execution_count": null,
      "outputs": [
        {
          "output_type": "execute_result",
          "data": {
            "text/plain": [
              "0.4399999999999996"
            ]
          },
          "metadata": {},
          "execution_count": 38
        }
      ]
    },
    {
      "cell_type": "code",
      "source": [
        "c.index(min(c))"
      ],
      "metadata": {
        "colab": {
          "base_uri": "https://localhost:8080/"
        },
        "id": "DlhZzzvdut0O",
        "outputId": "0750f4d6-4dd6-4142-9194-c6ccfac51630"
      },
      "execution_count": null,
      "outputs": [
        {
          "output_type": "execute_result",
          "data": {
            "text/plain": [
              "12"
            ]
          },
          "metadata": {},
          "execution_count": 40
        }
      ]
    },
    {
      "cell_type": "code",
      "source": [
        "import torch"
      ],
      "metadata": {
        "id": "2huW4HRvuy-D"
      },
      "execution_count": null,
      "outputs": []
    },
    {
      "cell_type": "code",
      "source": [
        "torch.__version__"
      ],
      "metadata": {
        "id": "C06yj284s6Ef",
        "outputId": "2a01aa66-16a1-47ed-8055-4f770a3e32bd",
        "colab": {
          "base_uri": "https://localhost:8080/",
          "height": 36
        }
      },
      "execution_count": null,
      "outputs": [
        {
          "output_type": "execute_result",
          "data": {
            "text/plain": [
              "'2.5.1+cu124'"
            ],
            "application/vnd.google.colaboratory.intrinsic+json": {
              "type": "string"
            }
          },
          "metadata": {},
          "execution_count": 2
        }
      ]
    },
    {
      "cell_type": "code",
      "source": [
        "1+1"
      ],
      "metadata": {
        "id": "9TZ4cK1OtP7x",
        "colab": {
          "base_uri": "https://localhost:8080/"
        },
        "outputId": "522f008d-5ca6-4adb-87e0-cadb5ae9f38e"
      },
      "execution_count": 1,
      "outputs": [
        {
          "output_type": "execute_result",
          "data": {
            "text/plain": [
              "2"
            ]
          },
          "metadata": {},
          "execution_count": 1
        }
      ]
    },
    {
      "cell_type": "code",
      "source": [
        "1+1"
      ],
      "metadata": {
        "colab": {
          "base_uri": "https://localhost:8080/"
        },
        "id": "h0GlEcT3eg5z",
        "outputId": "8ce50596-75e6-4600-a77e-21f6f32d5f5b"
      },
      "execution_count": 1,
      "outputs": [
        {
          "output_type": "execute_result",
          "data": {
            "text/plain": [
              "2"
            ]
          },
          "metadata": {},
          "execution_count": 1
        }
      ]
    },
    {
      "cell_type": "code",
      "source": [
        "100+100"
      ],
      "metadata": {
        "colab": {
          "base_uri": "https://localhost:8080/"
        },
        "id": "4z-GuxrGetAv",
        "outputId": "aea1f3f7-ea5e-4b68-c348-8b77722bbbbe"
      },
      "execution_count": 2,
      "outputs": [
        {
          "output_type": "execute_result",
          "data": {
            "text/plain": [
              "200"
            ]
          },
          "metadata": {},
          "execution_count": 2
        }
      ]
    },
    {
      "cell_type": "code",
      "source": [
        "1+1"
      ],
      "metadata": {
        "colab": {
          "base_uri": "https://localhost:8080/"
        },
        "id": "c0zNXbLjev7S",
        "outputId": "eb0a1685-b5f4-4aed-8283-7a9f2fc92430"
      },
      "execution_count": 1,
      "outputs": [
        {
          "output_type": "execute_result",
          "data": {
            "text/plain": [
              "2"
            ]
          },
          "metadata": {},
          "execution_count": 1
        }
      ]
    },
    {
      "cell_type": "code",
      "source": [],
      "metadata": {
        "id": "56-nQJ4ie9x4"
      },
      "execution_count": 1,
      "outputs": []
    },
    {
      "cell_type": "code",
      "source": [],
      "metadata": {
        "id": "vsMQznG1fJlE"
      },
      "execution_count": null,
      "outputs": []
    }
  ]
}