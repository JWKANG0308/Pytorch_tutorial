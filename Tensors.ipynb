{
  "nbformat": 4,
  "nbformat_minor": 0,
  "metadata": {
    "colab": {
      "provenance": [],
      "authorship_tag": "ABX9TyNVJGpgGF+ECvFYAgm0lrZZ",
      "include_colab_link": true
    },
    "kernelspec": {
      "name": "python3",
      "display_name": "Python 3"
    },
    "language_info": {
      "name": "python"
    }
  },
  "cells": [
    {
      "cell_type": "markdown",
      "metadata": {
        "id": "view-in-github",
        "colab_type": "text"
      },
      "source": [
        "<a href=\"https://colab.research.google.com/github/JWKANG0308/Pytorch_tutorial/blob/main/Tensors.ipynb\" target=\"_parent\"><img src=\"https://colab.research.google.com/assets/colab-badge.svg\" alt=\"Open In Colab\"/></a>"
      ]
    },
    {
      "cell_type": "code",
      "execution_count": null,
      "metadata": {
        "id": "nkqgZGyHi8n8"
      },
      "outputs": [],
      "source": []
    },
    {
      "cell_type": "markdown",
      "source": [
        "**Tensors**\n",
        "\n",
        "\n",
        "\n",
        "*   A torch. Tensor is a multi-dimensional matrix containing elements of a single data type.\n",
        "*   Similar To Numpy Arrays, but full of fun things that make them work better on GPU's\n",
        "*   default data type of float32\n",
        "*   More suitable for deep learning than a numpy array\n",
        "\n",
        "\n",
        "\n"
      ],
      "metadata": {
        "id": "8-ZTnR4KjNjs"
      }
    },
    {
      "cell_type": "code",
      "source": [
        "import numpy\n",
        "import torch"
      ],
      "metadata": {
        "id": "28X6Z_g7jwYA"
      },
      "execution_count": 2,
      "outputs": []
    },
    {
      "cell_type": "markdown",
      "source": [
        "**Lists**"
      ],
      "metadata": {
        "id": "B53kA6i8o8c4"
      }
    },
    {
      "cell_type": "code",
      "source": [
        "list1 = [[1,2,3,4,5],[6,7,8,9,10]]\n",
        "print(list1)\n",
        "type(list1)"
      ],
      "metadata": {
        "colab": {
          "base_uri": "https://localhost:8080/"
        },
        "id": "yrYbv3PKpCEa",
        "outputId": "24daff24-8b18-4b31-b76b-45e4225ecd85"
      },
      "execution_count": 9,
      "outputs": [
        {
          "output_type": "stream",
          "name": "stdout",
          "text": [
            "[[1, 2, 3, 4, 5], [6, 7, 8, 9, 10]]\n"
          ]
        },
        {
          "output_type": "execute_result",
          "data": {
            "text/plain": [
              "list"
            ]
          },
          "metadata": {},
          "execution_count": 9
        }
      ]
    },
    {
      "cell_type": "markdown",
      "source": [
        "**Numpy**"
      ],
      "metadata": {
        "id": "7N0Ul6rBpkVw"
      }
    },
    {
      "cell_type": "code",
      "source": [
        "numpy1= numpy.random.rand(2,5)\n",
        "print(numpy1, numpy1.dtype)\n",
        "type(numpy1)\n"
      ],
      "metadata": {
        "colab": {
          "base_uri": "https://localhost:8080/"
        },
        "id": "jsSLvwvgpoDS",
        "outputId": "eb3e06d8-17b9-4e0b-f299-5e2c2f20440e"
      },
      "execution_count": 12,
      "outputs": [
        {
          "output_type": "stream",
          "name": "stdout",
          "text": [
            "[[0.3835115  0.01868531 0.00444466 0.96107931 0.74982357]\n",
            " [0.9130665  0.94045055 0.37327858 0.12080764 0.07790235]] float64\n"
          ]
        },
        {
          "output_type": "execute_result",
          "data": {
            "text/plain": [
              "numpy.ndarray"
            ]
          },
          "metadata": {},
          "execution_count": 12
        }
      ]
    },
    {
      "cell_type": "markdown",
      "source": [
        "**Tensors**"
      ],
      "metadata": {
        "id": "AwzEkknXqC4S"
      }
    },
    {
      "cell_type": "code",
      "source": [
        "tensor_2d= torch.randn(2,5) # randn : Values are drawn from a standard normal distribution (mean = 0, standard deviation = 1).\n",
        "tensor_2d"
      ],
      "metadata": {
        "colab": {
          "base_uri": "https://localhost:8080/"
        },
        "id": "Y3minDEfqG68",
        "outputId": "694e241d-4c1c-41f0-b838-d616b3f8ad54"
      },
      "execution_count": 22,
      "outputs": [
        {
          "output_type": "execute_result",
          "data": {
            "text/plain": [
              "tensor([[ 0.0555,  0.3879,  1.0726, -0.3437,  1.0889],\n",
              "        [ 1.2168,  1.9033,  0.2477, -0.8990, -0.1238]])"
            ]
          },
          "metadata": {},
          "execution_count": 22
        }
      ]
    },
    {
      "cell_type": "code",
      "source": [
        "tensor_3d = torch.randn(3,2,5)\n",
        "tensor_3d, tensor_3d.dtype"
      ],
      "metadata": {
        "colab": {
          "base_uri": "https://localhost:8080/"
        },
        "id": "mfSvQdZ9qTg_",
        "outputId": "c5cf68de-4d5a-4745-917a-94285130ff9b"
      },
      "execution_count": 26,
      "outputs": [
        {
          "output_type": "execute_result",
          "data": {
            "text/plain": [
              "(tensor([[[-2.2816,  0.0286,  1.2975, -0.5155,  2.1422],\n",
              "          [ 0.1095, -0.1316, -1.9421, -1.0233,  1.8790]],\n",
              " \n",
              "         [[-0.2232, -1.8280,  0.3033, -0.8597,  0.5618],\n",
              "          [ 0.2299,  0.6161,  0.0106, -0.9270, -1.0820]],\n",
              " \n",
              "         [[ 0.3908, -0.2625,  1.9624, -2.0838,  0.3664],\n",
              "          [-0.1483,  2.0116,  2.3205,  0.7566,  0.2969]]]),\n",
              " torch.float32)"
            ]
          },
          "metadata": {},
          "execution_count": 26
        }
      ]
    },
    {
      "cell_type": "code",
      "source": [
        "tensor_from_numpy = torch.tensor(numpy1)\n",
        "tensor_from_numpy, tensor_from_numpy.dtype  #dtype = flaot64 because tensor is created from the numpy"
      ],
      "metadata": {
        "colab": {
          "base_uri": "https://localhost:8080/"
        },
        "id": "8hYeb7tfq-Nq",
        "outputId": "9bcdf052-f00f-4e09-ec33-30baac8c973e"
      },
      "execution_count": 27,
      "outputs": [
        {
          "output_type": "execute_result",
          "data": {
            "text/plain": [
              "(tensor([[0.3835, 0.0187, 0.0044, 0.9611, 0.7498],\n",
              "         [0.9131, 0.9405, 0.3733, 0.1208, 0.0779]], dtype=torch.float64),\n",
              " torch.float64)"
            ]
          },
          "metadata": {},
          "execution_count": 27
        }
      ]
    },
    {
      "cell_type": "code",
      "source": [],
      "metadata": {
        "id": "UGeISNKErjMi"
      },
      "execution_count": null,
      "outputs": []
    }
  ]
}